{
 "cells": [
  {
   "cell_type": "code",
   "execution_count": null,
   "metadata": {},
   "outputs": [],
   "source": [
    "import matplotlib.pyplot as plt\n",
    "import tensorflow as tf\n",
    "import numpy as np"
   ]
  },
  {
   "cell_type": "code",
   "execution_count": null,
   "metadata": {},
   "outputs": [],
   "source": [
    "BATCH_SIZE = 2\n",
    "IMG_H, IMG_W = 224, 224\n",
    "DATA_DIR = \"./food101/images/\"\n",
    "\n",
    "train_ds = tf.keras.preprocessing.image_dataset_from_directory(\n",
    "  DATA_DIR,\n",
    "  validation_split=0.2,\n",
    "  subset=\"training\",\n",
    "  seed=123,\n",
    "  image_size=(IMG_H, IMG_W),\n",
    "  batch_size=BATCH_SIZE,\n",
    "  label_mode=\"categorical\")\n",
    "\n",
    "val_ds = tf.keras.preprocessing.image_dataset_from_directory(\n",
    "  DATA_DIR,\n",
    "  validation_split=0.2,\n",
    "  subset=\"validation\",\n",
    "  seed=123,\n",
    "  image_size=(IMG_H, IMG_W),\n",
    "  batch_size=BATCH_SIZE,\n",
    "  label_mode=\"categorical\")"
   ]
  },
  {
   "cell_type": "code",
   "execution_count": null,
   "metadata": {},
   "outputs": [],
   "source": [
    "class_names = train_ds.class_names\n",
    "class_names"
   ]
  },
  {
   "cell_type": "code",
   "execution_count": null,
   "metadata": {},
   "outputs": [],
   "source": [
    "from tensorflow.keras.layers import Conv2D, MaxPooling2D, Dense, GlobalAveragePooling2D, Flatten\n",
    "from tensorflow.keras.models import Sequential\n",
    "from tensorflow.keras.optimizers import Adam\n",
    "from tensorflow.keras.callbacks import ModelCheckpoint"
   ]
  },
  {
   "cell_type": "code",
   "execution_count": null,
   "metadata": {},
   "outputs": [],
   "source": [
    "INPUT_SHAPE = (IMG_H, IMG_W, 3)\n",
    "NUM_OUTPUTS = len(train_ds.class_names)"
   ]
  },
  {
   "cell_type": "code",
   "execution_count": null,
   "metadata": {},
   "outputs": [],
   "source": [
    "INPUT_SHAPE"
   ]
  },
  {
   "cell_type": "code",
   "execution_count": null,
   "metadata": {},
   "outputs": [],
   "source": [
    "NUM_OUTPUTS"
   ]
  },
  {
   "cell_type": "code",
   "execution_count": null,
   "metadata": {},
   "outputs": [],
   "source": [
    "model = Sequential()\n",
    "\n",
    "# conv1\n",
    "model.add(Conv2D(filters=64, input_shape=INPUT_SHAPE, kernel_size=(7,7), strides=2, activation=\"relu\"))\n",
    "\n",
    "# conv2\n",
    "model.add(MaxPooling2D(pool_size=(3,3), strides=2))\n",
    "\n",
    "for i in range(3):\n",
    "    model.add(Conv2D(filters=128, kernel_size=(1,1), activation=\"relu\"))\n",
    "    model.add(Conv2D(filters=128, kernel_size=(3,3), activation=\"relu\", groups=32))\n",
    "    model.add(Conv2D(filters=256, kernel_size=(1,1), activation=\"relu\"))\n",
    "\n",
    "# conv3\n",
    "for i in range(4):\n",
    "    model.add(Conv2D(filters=256, kernel_size=(1,1), activation=\"relu\"))\n",
    "    model.add(Conv2D(filters=256, kernel_size=(3,3), activation=\"relu\", groups=32))\n",
    "    model.add(Conv2D(filters=512, kernel_size=(1,1), activation=\"relu\"))\n",
    "\n",
    "# conv4\n",
    "for i in range(6):\n",
    "    model.add(Conv2D(filters=512, kernel_size=(1,1), activation=\"relu\"))\n",
    "    model.add(Conv2D(filters=512, kernel_size=(3,3), activation=\"relu\", groups=32))\n",
    "    model.add(Conv2D(filters=1024, kernel_size=(1,1), activation=\"relu\"))\n",
    "\n",
    "# conv5\n",
    "for i in range(3):\n",
    "    model.add(Conv2D(filters=1024, kernel_size=(1,1), activation=\"relu\"))\n",
    "    model.add(Conv2D(filters=1024, kernel_size=(3,3), activation=\"relu\", groups=32))\n",
    "    model.add(Conv2D(filters=2048, kernel_size=(1,1), activation=\"relu\"))\n",
    "\n",
    "# final layer\n",
    "model.add(GlobalAveragePooling2D())\n",
    "model.add(Flatten())\n",
    "model.add(Dense(NUM_OUTPUTS, activation=\"softmax\"))\n",
    "\n",
    "# optimizer\n",
    "adam = Adam(learning_rate=0.01)\n",
    "# model checkpoint\n",
    "checkpoint_filePath = \"./tmp/checkpoint/\"\n",
    "checkpoint = ModelCheckpoint(checkpoint_filePath, monitor=\"categorical_accuracy\", verbose=1, save_best_only=True)\n",
    "# compiling the model\n",
    "model.compile(optimizer=adam, loss=\"categorical_crossentropy\", metrics=[\"categorical_accuracy\"])\n",
    "model.summary()"
   ]
  },
  {
   "cell_type": "code",
   "execution_count": null,
   "metadata": {},
   "outputs": [],
   "source": [
    "EPOCHS = 2\n",
    "history =   model.fit(train_ds,\n",
    "            epochs=EPOCHS,\n",
    "            callbacks=[checkpoint],\n",
    "            validation_data=val_ds)"
   ]
  },
  {
   "cell_type": "code",
   "execution_count": null,
   "metadata": {},
   "outputs": [],
   "source": []
  },
  {
   "cell_type": "code",
   "execution_count": null,
   "metadata": {},
   "outputs": [],
   "source": []
  }
 ],
 "metadata": {
  "interpreter": {
   "hash": "c1add7d819c8d3fb6045e706418be27c4b90686b9e382a3e08bb6d85b65da827"
  },
  "kernelspec": {
   "display_name": "Python 3.8.12 64-bit ('tensor_gpu': conda)",
   "language": "python",
   "name": "python3"
  },
  "language_info": {
   "codemirror_mode": {
    "name": "ipython",
    "version": 3
   },
   "file_extension": ".py",
   "mimetype": "text/x-python",
   "name": "python",
   "nbconvert_exporter": "python",
   "pygments_lexer": "ipython3",
   "version": "3.8.12"
  },
  "orig_nbformat": 4
 },
 "nbformat": 4,
 "nbformat_minor": 2
}
